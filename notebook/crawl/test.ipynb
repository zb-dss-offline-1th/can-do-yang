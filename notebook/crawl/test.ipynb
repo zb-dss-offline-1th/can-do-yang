{
 "cells": [
  {
   "cell_type": "markdown",
   "metadata": {},
   "source": [
    "# KCA : KCA Ingredient List"
   ]
  },
  {
   "cell_type": "markdown",
   "metadata": {},
   "source": [
    "## Import Module"
   ]
  },
  {
   "cell_type": "code",
   "execution_count": 1,
   "metadata": {},
   "outputs": [],
   "source": [
    "import warnings\n",
    "warnings.filterwarnings(action='ignore')\n",
    "\n",
    "import pandas as pd\n",
    "from tqdm import tqdm_notebook\n",
    "from bs4 import BeautifulSoup\n",
    "from html_table_parser import parser_functions\n",
    "import requests"
   ]
  },
  {
   "cell_type": "markdown",
   "metadata": {},
   "source": [
    "## Crawling"
   ]
  },
  {
   "cell_type": "code",
   "execution_count": null,
   "metadata": {},
   "outputs": [],
   "source": [
    "# kcia의 성분사전 테이블 형태로 빈 데이터 프레임을 미리 하나 만든다\n",
    "cols = ['성분코드', '성분명', '영문명', 'CAS No', '구명칭']\n",
    "kca_ing_name_df = pd.DataFrame(columns=cols)\n",
    "kca_ing_name_df"
   ]
  },
  {
   "cell_type": "code",
   "execution_count": null,
   "metadata": {},
   "outputs": [],
   "source": [
    "url = \"https://kcia.or.kr/cid/search/ingd_list.php\"\n",
    "response = requests.get(url)\n",
    "\n",
    "html = response.text\n",
    "soup = BeautifulSoup(html, 'html.parser')"
   ]
  },
  {
   "cell_type": "code",
   "execution_count": null,
   "metadata": {},
   "outputs": [],
   "source": [
    "total = int(soup.find('b','green').text.replace(',','')) # 전체 자료수\n",
    "last_page = 0 \n",
    "\n",
    "# 한 페이지당 10개씩 기재되었음\n",
    "if total % 10 != 0: # 10의 정수가 아니면 한 페이지 추가\n",
    "    last_page = (total // 10) + 1\n",
    "else:\n",
    "    last_page = total // 10"
   ]
  },
  {
   "cell_type": "code",
   "execution_count": null,
   "metadata": {},
   "outputs": [],
   "source": [
    "for num in range(1, last_page+1): # page_num을 활용\n",
    "    url = f\"https://kcia.or.kr/cid/search/ingd_list.php?page={num}\" # url이 뒤의 page num만 바뀜\n",
    "    response = requests.get(url)\n",
    "\n",
    "    if response.status_code == 200:\n",
    "        html = response.text\n",
    "        soup = BeautifulSoup(html, 'html.parser')\n",
    "\n",
    "    data = soup.find('table',{\"class\" : \"bbs_list\"}) # class가 bbs_list인 테이블을 찾아와서\n",
    "    data = parser_functions.make2d(data)[1:] # parser_functions의 make2d로 받아온다\n",
    "\n",
    "    tmp_df = pd.DataFrame(data, columns=cols) # 임시 데이터 프레임을 만들어 각 페이지 별 테이블 정보를 담아서\n",
    "    kca_ing_name_df = pd.concat([kca_ing_name_df ,tmp_df]) # 위에 만들어 놓은 빈 데이터프레임이랑 concat 하는 식으로 누적시킨다\n",
    "\n",
    "# kca_ing_name_df"
   ]
  },
  {
   "cell_type": "code",
   "execution_count": null,
   "metadata": {},
   "outputs": [],
   "source": [
    "kca_ing_name_df = kca_ing_name_df.astype({'성분코드':'int'})\n",
    "kca_ing_name_df = kca_ing_name_df[['성분코드', '성분명', '영문명']].set_index('성분코드').sort_index()\n",
    "kca_ing_name_df.reset_index(inplace=True)"
   ]
  },
  {
   "cell_type": "code",
   "execution_count": null,
   "metadata": {},
   "outputs": [],
   "source": [
    "# inci-decoer에 성분을 검색할 때, format이 맞지 않는 표기명들이 있었다.\n",
    "# 괄호와 그 안에 들어있는 내용을 제거하자\n",
    "import re\n",
    "pattern = r'\\([^)]*\\)'\n",
    "\n",
    "for idx, row in kca_ing_name_df.iterrows():\n",
    "    tmp = kca_ing_name_df.iloc[idx]['영문명']\n",
    "    try:\n",
    "        if '(' in tmp:\n",
    "            txt = re.sub(pattern=pattern, repl='', string= tmp)\n",
    "            txt = ' '.join(txt.split())\n",
    "            kca_ing_name_df.iloc[idx,2] = txt\n",
    "    except:\n",
    "        pass"
   ]
  },
  {
   "cell_type": "code",
   "execution_count": null,
   "metadata": {},
   "outputs": [],
   "source": [
    "kca_ing_name_df['formatted_영문명'] = kca_ing_name_df['영문명'].str.lower().str.replace(\" \",\"-\") # inci-decoder에 검색가능한 format으로 변경하여 컬럼 추가"
   ]
  },
  {
   "cell_type": "code",
   "execution_count": null,
   "metadata": {},
   "outputs": [],
   "source": [
    "kca_ing_name_df.to_csv('kca_ing_name.csv')"
   ]
  }
 ],
 "metadata": {
  "kernelspec": {
   "display_name": "Python 3.8.12 ('ds_study')",
   "language": "python",
   "name": "python3"
  },
  "language_info": {
   "codemirror_mode": {
    "name": "ipython",
    "version": 3
   },
   "file_extension": ".py",
   "mimetype": "text/x-python",
   "name": "python",
   "nbconvert_exporter": "python",
   "pygments_lexer": "ipython3",
   "version": "3.8.12"
  },
  "orig_nbformat": 4,
  "vscode": {
   "interpreter": {
    "hash": "a25cd9f89876bcf3e8ab9a11749a6ba312fc39ea63ca69d0587e322f28223b18"
   }
  }
 },
 "nbformat": 4,
 "nbformat_minor": 2
}

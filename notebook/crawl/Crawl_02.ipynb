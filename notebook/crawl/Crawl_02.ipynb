{
 "cells": [
  {
   "cell_type": "markdown",
   "metadata": {},
   "source": [
    "## - 개요"
   ]
  },
  {
   "cell_type": "markdown",
   "metadata": {},
   "source": [
    "화장품 전성분 데이터를 수집하기 위한 부작업.\n",
    "<br>\n",
    "이전 수집한 kca_ing_name.csv 파일에 들어있는 전성분 데이터를 활용,\n",
    "<br>\n",
    "INCI-Decoder 사이트 내 성분페이지에 접근하여\n",
    "<br>\n",
    "각 성분이 포함된 모든 제품의 리스트를 가져오기.\n",
    "<br>\n",
    "<br>\n",
    "<br>\n",
    "(이때, 중복은 허용하지 않으며 활용하는 모든 csv 파일은\n",
    "<br>\n",
    "실행 파일과 같은 디렉토리에 있는 것을 원칙으로 함)"
   ]
  },
  {
   "cell_type": "markdown",
   "metadata": {},
   "source": [
    "### 1. 활용 모듈 및 성분 파일 불러오기"
   ]
  },
  {
   "cell_type": "markdown",
   "metadata": {},
   "source": [
    "프로젝트에서 활용할 모듈은 사용한 셀에서 설명할 예정"
   ]
  },
  {
   "cell_type": "code",
   "execution_count": 12,
   "metadata": {},
   "outputs": [],
   "source": [
    "from bs4 import BeautifulSoup\n",
    "import pandas as pd\n",
    "from urllib.request import urlopen\n",
    "import tqdm"
   ]
  },
  {
   "cell_type": "markdown",
   "metadata": {},
   "source": [
    "기존에 KCA 성분사전에서 수집했던 성분 데이터 불러오기.\n",
    "<br>\n",
    "해당 파일의 'formatted_영문명' 칼럼을 활용하여\n",
    "<br>\n",
    "INCI-Decoder 사이트 내 제품명 데이터에 접근할 것."
   ]
  },
  {
   "cell_type": "code",
   "execution_count": 13,
   "metadata": {},
   "outputs": [],
   "source": [
    "# 성분 파일(csv) 불러오기\n",
    "\n",
    "ing_df = pd.read_csv('kca_ing_name.csv',index_col=0)\n",
    "ing_df['formatted_영문명'] = ing_df['formatted_영문명'].str.replace(\"/\",\"-\")"
   ]
  },
  {
   "cell_type": "code",
   "execution_count": 14,
   "metadata": {},
   "outputs": [
    {
     "data": {
      "text/html": [
       "<div>\n",
       "<style scoped>\n",
       "    .dataframe tbody tr th:only-of-type {\n",
       "        vertical-align: middle;\n",
       "    }\n",
       "\n",
       "    .dataframe tbody tr th {\n",
       "        vertical-align: top;\n",
       "    }\n",
       "\n",
       "    .dataframe thead th {\n",
       "        text-align: right;\n",
       "    }\n",
       "</style>\n",
       "<table border=\"1\" class=\"dataframe\">\n",
       "  <thead>\n",
       "    <tr style=\"text-align: right;\">\n",
       "      <th></th>\n",
       "      <th>성분코드</th>\n",
       "      <th>성분명</th>\n",
       "      <th>영문명</th>\n",
       "      <th>formatted_영문명</th>\n",
       "    </tr>\n",
       "  </thead>\n",
       "  <tbody>\n",
       "    <tr>\n",
       "      <th>0</th>\n",
       "      <td>1</td>\n",
       "      <td>가공소금</td>\n",
       "      <td>NaN</td>\n",
       "      <td>NaN</td>\n",
       "    </tr>\n",
       "    <tr>\n",
       "      <th>1</th>\n",
       "      <td>2</td>\n",
       "      <td>가지열매추출물</td>\n",
       "      <td>Solanum Melongena Fruit Extract</td>\n",
       "      <td>solanum-melongena-fruit-extract</td>\n",
       "    </tr>\n",
       "    <tr>\n",
       "      <th>2</th>\n",
       "      <td>3</td>\n",
       "      <td>구멍쇠미역추출물</td>\n",
       "      <td>Agarum Cribrosum Extract</td>\n",
       "      <td>agarum-cribrosum-extract</td>\n",
       "    </tr>\n",
       "    <tr>\n",
       "      <th>3</th>\n",
       "      <td>4</td>\n",
       "      <td>루핀아미노산</td>\n",
       "      <td>Lupine Amino Acids</td>\n",
       "      <td>lupine-amino-acids</td>\n",
       "    </tr>\n",
       "    <tr>\n",
       "      <th>4</th>\n",
       "      <td>5</td>\n",
       "      <td>류신</td>\n",
       "      <td>Leucine</td>\n",
       "      <td>leucine</td>\n",
       "    </tr>\n",
       "  </tbody>\n",
       "</table>\n",
       "</div>"
      ],
      "text/plain": [
       "   성분코드       성분명                              영문명  \\\n",
       "0     1      가공소금                              NaN   \n",
       "1     2   가지열매추출물  Solanum Melongena Fruit Extract   \n",
       "2     3  구멍쇠미역추출물         Agarum Cribrosum Extract   \n",
       "3     4    루핀아미노산               Lupine Amino Acids   \n",
       "4     5        류신                          Leucine   \n",
       "\n",
       "                     formatted_영문명  \n",
       "0                              NaN  \n",
       "1  solanum-melongena-fruit-extract  \n",
       "2         agarum-cribrosum-extract  \n",
       "3               lupine-amino-acids  \n",
       "4                          leucine  "
      ]
     },
     "execution_count": 14,
     "metadata": {},
     "output_type": "execute_result"
    }
   ],
   "source": [
    "# 데이터 프리뷰 (top 5)\n",
    "\n",
    "ing_df.head()"
   ]
  },
  {
   "cell_type": "code",
   "execution_count": 15,
   "metadata": {},
   "outputs": [
    {
     "data": {
      "text/html": [
       "<div>\n",
       "<style scoped>\n",
       "    .dataframe tbody tr th:only-of-type {\n",
       "        vertical-align: middle;\n",
       "    }\n",
       "\n",
       "    .dataframe tbody tr th {\n",
       "        vertical-align: top;\n",
       "    }\n",
       "\n",
       "    .dataframe thead th {\n",
       "        text-align: right;\n",
       "    }\n",
       "</style>\n",
       "<table border=\"1\" class=\"dataframe\">\n",
       "  <thead>\n",
       "    <tr style=\"text-align: right;\">\n",
       "      <th></th>\n",
       "      <th>성분코드</th>\n",
       "      <th>성분명</th>\n",
       "      <th>영문명</th>\n",
       "      <th>formatted_영문명</th>\n",
       "    </tr>\n",
       "  </thead>\n",
       "  <tbody>\n",
       "    <tr>\n",
       "      <th>24651</th>\n",
       "      <td>23301</td>\n",
       "      <td>락토바실러스/(참당귀뿌리/병풀/더덕뿌리/감초뿌리/홍삼뿌리/쇠비름)추출물발효여과물</td>\n",
       "      <td>NaN</td>\n",
       "      <td>NaN</td>\n",
       "    </tr>\n",
       "    <tr>\n",
       "      <th>24652</th>\n",
       "      <td>23302</td>\n",
       "      <td>생강나무가지/잎수</td>\n",
       "      <td>NaN</td>\n",
       "      <td>NaN</td>\n",
       "    </tr>\n",
       "    <tr>\n",
       "      <th>24653</th>\n",
       "      <td>23302</td>\n",
       "      <td>생강나무가지/잎수</td>\n",
       "      <td>NaN</td>\n",
       "      <td>NaN</td>\n",
       "    </tr>\n",
       "    <tr>\n",
       "      <th>24654</th>\n",
       "      <td>23303</td>\n",
       "      <td>생강나무가지/잎추출물</td>\n",
       "      <td>NaN</td>\n",
       "      <td>NaN</td>\n",
       "    </tr>\n",
       "    <tr>\n",
       "      <th>24655</th>\n",
       "      <td>23303</td>\n",
       "      <td>생강나무가지/잎추출물</td>\n",
       "      <td>NaN</td>\n",
       "      <td>NaN</td>\n",
       "    </tr>\n",
       "  </tbody>\n",
       "</table>\n",
       "</div>"
      ],
      "text/plain": [
       "        성분코드                                           성분명  영문명 formatted_영문명\n",
       "24651  23301  락토바실러스/(참당귀뿌리/병풀/더덕뿌리/감초뿌리/홍삼뿌리/쇠비름)추출물발효여과물  NaN           NaN\n",
       "24652  23302                                     생강나무가지/잎수  NaN           NaN\n",
       "24653  23302                                     생강나무가지/잎수  NaN           NaN\n",
       "24654  23303                                   생강나무가지/잎추출물  NaN           NaN\n",
       "24655  23303                                   생강나무가지/잎추출물  NaN           NaN"
      ]
     },
     "execution_count": 15,
     "metadata": {},
     "output_type": "execute_result"
    }
   ],
   "source": [
    "# 데이터 프리뷰 (bottom 5)\n",
    "\n",
    "ing_df.tail()"
   ]
  },
  {
   "cell_type": "markdown",
   "metadata": {},
   "source": [
    "### 2. 데이터 수집을 위한 사전 처리"
   ]
  },
  {
   "cell_type": "markdown",
   "metadata": {},
   "source": [
    "크롤링에 활용할 데이터만 남기는 과정.\n",
    "<br>\n",
    "수집에 앞서 웹페이지의 특성을 파악하고,\n",
    "<br>\n",
    "(각 페이지 정보를 순차적으로 불러오고, 특정 태그 내 제품 이름 정보만 수집)\n",
    "<br>\n",
    "페이지의 특성에 맞는 방식으로 데이터를 수집하기 위해\n",
    "<br>\n",
    "세 가지 함수 설정."
   ]
  },
  {
   "cell_type": "code",
   "execution_count": 18,
   "metadata": {},
   "outputs": [],
   "source": [
    "# 성분으로 조회한 제품 리스트 만들기\n",
    "\n",
    "def add_ing_products(tags,product_names):  # tags = html tag\n",
    "    for tag in tags:\n",
    "        product = tag.attrs['data-ga-eventlabel'][8:]\n",
    "        product_names.add(product)\n",
    "            \n",
    "    return product_names"
   ]
  },
  {
   "cell_type": "code",
   "execution_count": 19,
   "metadata": {},
   "outputs": [],
   "source": [
    "# 성분으로 접근한 웹페이지의 제품 리스트에 '다음페이지'가 존재하는지 확인\n",
    "\n",
    "def next_page_exists(soup):\n",
    "    if \"Next\" in soup.find(id=\"product\").find_all(\"div\")[-1].text: \n",
    "        return True\n",
    "    else:\n",
    "        return False"
   ]
  },
  {
   "cell_type": "code",
   "execution_count": 20,
   "metadata": {},
   "outputs": [],
   "source": [
    "# 제품 리스트 만들기\n",
    "\n",
    "def get_product_list(ing,product_names):\n",
    "    url = 'https://incidecoder.com/ingredients/'+ ing # 표준화된 성분명에 따라서 url 형성\n",
    "    \n",
    "    # url이 존재한다면(성분에 해당하는 제품이 있다면)\n",
    "    try:\n",
    "        html = urlopen(url) \n",
    "        source = html.read()\n",
    "        soup = BeautifulSoup(source, \"html.parser\")\n",
    "        tags = soup.select(\"#product > div > a\") \n",
    "        add_ing_products(tags,product_names) \n",
    "\n",
    "        if next_page_exists(soup): # url 내 다음 페이지가 존재한다면 작용\n",
    "            nextpage = True\n",
    "        \n",
    "        while nextpage: # 다음 페이지가 있다면 반복\n",
    "            nexturl = soup.find(id=\"product\").find_all(\"a\")[-1]['href'] \n",
    "            url = 'https://incidecoder.com'+ nexturl \n",
    "            html = urlopen(url) \n",
    "            source = html.read()\n",
    "            soup = BeautifulSoup(source, \"html.parser\")\n",
    "            tags = soup.select(\"#product > div > a\")\n",
    "            add_ing_products(tags,product_names) \n",
    "\n",
    "            if not next_page_exists(soup): # url 내 다음 페이지가 존재하지 않으면 정지\n",
    "                nextpage = False\n",
    "    \n",
    "    # url이 존재하지 않는다면(성분에 해당하는 제품이 없다면)\n",
    "    except Exception:\n",
    "        pass\n",
    "    \n",
    "    return product_names"
   ]
  },
  {
   "cell_type": "markdown",
   "metadata": {},
   "source": [
    "### 3. 데이터 수집"
   ]
  },
  {
   "cell_type": "markdown",
   "metadata": {},
   "source": [
    "각 성분에 해당하는 페이지를 순차적으로 돌면서 \n",
    "<br>\n",
    "해당 성분이 포함된 모든 제품의 품명을 수집하는 과정.\n",
    "<br>\n",
    "'product_label' 이라는 단일 칼럼으로 구성된 데이터프레임을\n",
    "<br>\n",
    "csv 파일로 바꾸는 과정까지 포함\n",
    "<br>\n",
    "<br>\n",
    "<br>\n",
    "(이 과정은 보통의 노트북에서 단일 실행 시 30시간이 넘게 걸리므로,\n",
    "<br>\n",
    "실행할 시 작업을 적절한 수준으로 분할하여 실행할 것을 권장)"
   ]
  },
  {
   "cell_type": "code",
   "execution_count": 25,
   "metadata": {},
   "outputs": [
    {
     "name": "stdout",
     "output_type": "stream",
     "text": [
      "성분의 수 (KCA 성분사전 - ENG only): 23158\n"
     ]
    }
   ],
   "source": [
    "# 이전 과정에서의 성분 테이블에서 '영문명' 칼럼에 해당하는 데이터만 불러오기\n",
    "kca_ing_eng = list(ing_df['formatted_영문명'].dropna())\n",
    "\n",
    "# 불러온 리스트의 길이 확인\n",
    "print('성분의 수 (KCA 성분사전 - ENG only):', len(kca_ing_eng))"
   ]
  },
  {
   "cell_type": "markdown",
   "metadata": {},
   "source": [
    "2개의 성분들은 데이터 수집 과정에서 제외 (Water, Glycerin).\n",
    "<br>\n",
    "대부분의 제품들에 들어 있는 성분으로 수집 과정이 과도하게 길어지는 것 방지 \n",
    "<br>\n",
    "(예시: 'Water'는 1342페이지의 제품 리스트가 존재)"
   ]
  },
  {
   "cell_type": "code",
   "execution_count": 27,
   "metadata": {},
   "outputs": [
    {
     "name": "stdout",
     "output_type": "stream",
     "text": [
      "성분의 수 (KCA 성분사전 - ENG only): 23156\n"
     ]
    }
   ],
   "source": [
    "# 2개 성분 제외 : 물과 글리세린\n",
    "\n",
    "remove_items = ['water','glycerin']\n",
    "\n",
    "for item in remove_items:\n",
    "    try: \n",
    "        kca_ing_eng.remove(item)\n",
    "    except ValueError:\n",
    "        pass\n",
    "\n",
    "print('성분의 수 (KCA 성분사전 - ENG only):', len(kca_ing_eng))"
   ]
  },
  {
   "cell_type": "code",
   "execution_count": 29,
   "metadata": {},
   "outputs": [
    {
     "data": {
      "application/vnd.jupyter.widget-view+json": {
       "model_id": "20a784c0b12a4541b0f3bcc7d176da41",
       "version_major": 2,
       "version_minor": 0
      },
      "text/plain": [
       "  0%|          | 0/5 [00:00<?, ?it/s]"
      ]
     },
     "metadata": {},
     "output_type": "display_data"
    },
    {
     "data": {
      "text/html": [
       "<div>\n",
       "<style scoped>\n",
       "    .dataframe tbody tr th:only-of-type {\n",
       "        vertical-align: middle;\n",
       "    }\n",
       "\n",
       "    .dataframe tbody tr th {\n",
       "        vertical-align: top;\n",
       "    }\n",
       "\n",
       "    .dataframe thead th {\n",
       "        text-align: right;\n",
       "    }\n",
       "</style>\n",
       "<table border=\"1\" class=\"dataframe\">\n",
       "  <thead>\n",
       "    <tr style=\"text-align: right;\">\n",
       "      <th></th>\n",
       "      <th>product_name</th>\n",
       "    </tr>\n",
       "  </thead>\n",
       "  <tbody>\n",
       "    <tr>\n",
       "      <th>0</th>\n",
       "      <td>isntree-onion-newpair-cleansing-foam</td>\n",
       "    </tr>\n",
       "    <tr>\n",
       "      <th>1</th>\n",
       "      <td>ahc-hydrating-essential-real-eye-cream-for-face</td>\n",
       "    </tr>\n",
       "    <tr>\n",
       "      <th>2</th>\n",
       "      <td>filorga-nctf-intensive-serum</td>\n",
       "    </tr>\n",
       "    <tr>\n",
       "      <th>3</th>\n",
       "      <td>truly-blueberry-kush-cbd-body-oil</td>\n",
       "    </tr>\n",
       "    <tr>\n",
       "      <th>4</th>\n",
       "      <td>dr-jart-sleeping-mask</td>\n",
       "    </tr>\n",
       "  </tbody>\n",
       "</table>\n",
       "</div>"
      ],
      "text/plain": [
       "                                      product_name\n",
       "0             isntree-onion-newpair-cleansing-foam\n",
       "1  ahc-hydrating-essential-real-eye-cream-for-face\n",
       "2                     filorga-nctf-intensive-serum\n",
       "3                truly-blueberry-kush-cbd-body-oil\n",
       "4                            dr-jart-sleeping-mask"
      ]
     },
     "execution_count": 29,
     "metadata": {},
     "output_type": "execute_result"
    }
   ],
   "source": [
    "# 테스트 코드\n",
    "\n",
    "tmp_products = set()\n",
    "for ing in tqdm.notebook.tqdm(kca_ing_eng[:5]):\n",
    "    tmp_products.update(get_product_list(ing,tmp_products))\n",
    "\n",
    "tmp_products_df = pd.DataFrame(columns=['product_name'],data=list(tmp_products))\n",
    "tmp_products_df.head()"
   ]
  },
  {
   "cell_type": "code",
   "execution_count": null,
   "metadata": {},
   "outputs": [],
   "source": [
    "# 기본 코드\n",
    "\n",
    "# products = set()\n",
    "\n",
    "# for ing in notebook.tqdm(kca_ing_eng):\n",
    "#     products.update(get_product_list(ing,products))\n",
    "\n",
    "# product_df = pd.DataFrame(columns=['product_name'],data=list(products))\n",
    "# product_df.head()"
   ]
  },
  {
   "cell_type": "markdown",
   "metadata": {},
   "source": [
    "실제 수집 과정에서, 'kca_ing_eng' 리스트는 수집 과정에서\n",
    "<br>\n",
    "다중 리소스 활용을 위해 구획별로 나누어 기본 코드를 통해 실행되었음."
   ]
  },
  {
   "cell_type": "code",
   "execution_count": 34,
   "metadata": {},
   "outputs": [
    {
     "name": "stdout",
     "output_type": "stream",
     "text": [
      "product_df0: kca_ing_eng[0:3308]\n",
      "product_df1: kca_ing_eng[3308:6616]\n",
      "product_df2: kca_ing_eng[6616:9924]\n",
      "product_df3: kca_ing_eng[9924:13232]\n",
      "product_df4: kca_ing_eng[13232:16540]\n",
      "product_df5: kca_ing_eng[16540:19848]\n",
      "product_df6: kca_ing_eng[19848:23156]\n",
      "product_df7: kca_ing_eng[23156:]\n"
     ]
    }
   ],
   "source": [
    "# 실제 수집 과정에서의 구획 나누기\n",
    "\n",
    "total = len(kca_ing_eng)\n",
    "length = len(kca_ing_eng)//7\n",
    "start = 0\n",
    "end = length\n",
    "i = 0\n",
    "\n",
    "while True:\n",
    "    sample_name = 'product_df'+str(i)\n",
    "    print(f'{sample_name}: kca_ing_eng[{start}:{end}]')\n",
    "    \n",
    "    start = end \n",
    "    end += length\n",
    "    total -= length\n",
    "    i += 1\n",
    "    \n",
    "    if total < 0 or end > len(kca_ing_eng):\n",
    "        sample_name = 'product_df'+str(i)\n",
    "        print(f'{sample_name}: kca_ing_eng[{start}:]')\n",
    "        break"
   ]
  },
  {
   "cell_type": "markdown",
   "metadata": {},
   "source": [
    "이후 나누어진 구획에 따라서 각자 크롤링 과정을 거침.\n",
    "<br>\n",
    "아래의 코드 블럭은 7번 구획에 대한 수집 방식에 대해서 예시를 든 것."
   ]
  },
  {
   "cell_type": "code",
   "execution_count": null,
   "metadata": {},
   "outputs": [],
   "source": [
    "# product_df7: kca_ing_eng[19411:]\n",
    "\n",
    "products = set()\n",
    "\n",
    "for ing in tqdm.notebook.tqdm(kca_ing_eng[19411:]):\n",
    "    products.update(get_product_list(ing,products))\n",
    "\n",
    "products_df7 = pd.DataFrame(columns=['product_name'],data=list(products))\n",
    "products_df7.head()\n",
    "# product_df7.to_csv(product_df7.csv, index=False)"
   ]
  },
  {
   "cell_type": "markdown",
   "metadata": {},
   "source": [
    "최종적으로 수집된 구획별 제품명 csv 파일을\n",
    "<br>\n",
    "병합하여 하나의 제품명 리스트를 구성함."
   ]
  },
  {
   "cell_type": "code",
   "execution_count": null,
   "metadata": {},
   "outputs": [],
   "source": [
    "# 병합 과정\n",
    "\n",
    "# product_df0 = pd.read_csv('./product_df0.csv',index_col=False)\n",
    "# product_df1 = pd.read_csv('./product_df1.csv',index_col=False)\n",
    "# product_df2 = pd.read_csv('./product_df2.csv',index_col=False)\n",
    "# product_df3 = pd.read_csv('./product_df3.csv',index_col=False)\n",
    "# product_df4 = pd.read_csv('./product_df4.csv',index_col=False)\n",
    "# product_df5 = pd.read_csv('./product_df5.csv',index_col=False)\n",
    "# product_df6 = pd.read_csv('./product_df6.csv',index_col=False)\n",
    "# product_df7 = pd.read_csv('./product_df7.csv',index_col=False)\n",
    "\n",
    "# product_all = pd.concat([product_df0,product_df1,product_df2,product_df3,product_df4,product_df5,product_df6,product_df7],ignore_index=True).drop_duplicates()\n",
    "# product_all.to_csv('product_df.csv',index=False)"
   ]
  },
  {
   "cell_type": "markdown",
   "metadata": {},
   "source": [
    "### 4. 수집 데이터 확인"
   ]
  },
  {
   "cell_type": "markdown",
   "metadata": {},
   "source": [
    "대량으로 수집한 데이터를 확인하는 과정.\n",
    "<br>\n",
    "수집된 데이터가 이상이 없는지 확인."
   ]
  },
  {
   "cell_type": "code",
   "execution_count": 30,
   "metadata": {},
   "outputs": [
    {
     "name": "stdout",
     "output_type": "stream",
     "text": [
      "<class 'pandas.core.frame.DataFrame'>\n",
      "RangeIndex: 77001 entries, 0 to 77000\n",
      "Data columns (total 1 columns):\n",
      " #   Column         Non-Null Count  Dtype \n",
      "---  ------         --------------  ----- \n",
      " 0   product_label  77001 non-null  object\n",
      "dtypes: object(1)\n",
      "memory usage: 601.7+ KB\n"
     ]
    }
   ],
   "source": [
    "product_df = pd.read_csv('product_df.csv',index_col=False)\n",
    "product_df.info()"
   ]
  },
  {
   "cell_type": "code",
   "execution_count": 31,
   "metadata": {},
   "outputs": [
    {
     "data": {
      "text/html": [
       "<div>\n",
       "<style scoped>\n",
       "    .dataframe tbody tr th:only-of-type {\n",
       "        vertical-align: middle;\n",
       "    }\n",
       "\n",
       "    .dataframe tbody tr th {\n",
       "        vertical-align: top;\n",
       "    }\n",
       "\n",
       "    .dataframe thead th {\n",
       "        text-align: right;\n",
       "    }\n",
       "</style>\n",
       "<table border=\"1\" class=\"dataframe\">\n",
       "  <thead>\n",
       "    <tr style=\"text-align: right;\">\n",
       "      <th></th>\n",
       "      <th>product_label</th>\n",
       "    </tr>\n",
       "  </thead>\n",
       "  <tbody>\n",
       "    <tr>\n",
       "      <th>0</th>\n",
       "      <td>clicks-expert-shine-control-foaming-cleanser</td>\n",
       "    </tr>\n",
       "    <tr>\n",
       "      <th>1</th>\n",
       "      <td>jvn-shine-drops</td>\n",
       "    </tr>\n",
       "    <tr>\n",
       "      <th>2</th>\n",
       "      <td>innisfree-auto-eyebrow-pencil-no-4</td>\n",
       "    </tr>\n",
       "    <tr>\n",
       "      <th>3</th>\n",
       "      <td>lululun-over45-camelia-pink</td>\n",
       "    </tr>\n",
       "    <tr>\n",
       "      <th>4</th>\n",
       "      <td>bielenda-good-skin-acid-peel-micro-exfoliating...</td>\n",
       "    </tr>\n",
       "    <tr>\n",
       "      <th>...</th>\n",
       "      <td>...</td>\n",
       "    </tr>\n",
       "    <tr>\n",
       "      <th>76996</th>\n",
       "      <td>lumene-hydration-recovery-aerating-gel-mask-2</td>\n",
       "    </tr>\n",
       "    <tr>\n",
       "      <th>76997</th>\n",
       "      <td>nivea-sensitive-post-shave-balm-2</td>\n",
       "    </tr>\n",
       "    <tr>\n",
       "      <th>76998</th>\n",
       "      <td>revivserums-ultimate-serum-2</td>\n",
       "    </tr>\n",
       "    <tr>\n",
       "      <th>76999</th>\n",
       "      <td>innisfree-super-volcanic-pore-clay-mask-2x</td>\n",
       "    </tr>\n",
       "    <tr>\n",
       "      <th>77000</th>\n",
       "      <td>sundance-lippenpflegestift-lsf-30</td>\n",
       "    </tr>\n",
       "  </tbody>\n",
       "</table>\n",
       "<p>77001 rows × 1 columns</p>\n",
       "</div>"
      ],
      "text/plain": [
       "                                           product_label\n",
       "0           clicks-expert-shine-control-foaming-cleanser\n",
       "1                                        jvn-shine-drops\n",
       "2                     innisfree-auto-eyebrow-pencil-no-4\n",
       "3                            lululun-over45-camelia-pink\n",
       "4      bielenda-good-skin-acid-peel-micro-exfoliating...\n",
       "...                                                  ...\n",
       "76996      lumene-hydration-recovery-aerating-gel-mask-2\n",
       "76997                  nivea-sensitive-post-shave-balm-2\n",
       "76998                       revivserums-ultimate-serum-2\n",
       "76999         innisfree-super-volcanic-pore-clay-mask-2x\n",
       "77000                  sundance-lippenpflegestift-lsf-30\n",
       "\n",
       "[77001 rows x 1 columns]"
      ]
     },
     "execution_count": 31,
     "metadata": {},
     "output_type": "execute_result"
    }
   ],
   "source": [
    "product_df"
   ]
  }
 ],
 "metadata": {
  "interpreter": {
   "hash": "3d597f4c481aa0f25dceb95d2a0067e73c0966dcbd003d741d821a7208527ecf"
  },
  "kernelspec": {
   "display_name": "Python 3.9.7 ('base')",
   "language": "python",
   "name": "python3"
  },
  "language_info": {
   "codemirror_mode": {
    "name": "ipython",
    "version": 3
   },
   "file_extension": ".py",
   "mimetype": "text/x-python",
   "name": "python",
   "nbconvert_exporter": "python",
   "pygments_lexer": "ipython3",
   "version": "3.8.13"
  },
  "orig_nbformat": 4
 },
 "nbformat": 4,
 "nbformat_minor": 2
}

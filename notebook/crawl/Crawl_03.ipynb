{
 "cells": [
  {
   "cell_type": "markdown",
   "metadata": {},
   "source": [
    "## - 개요"
   ]
  },
  {
   "cell_type": "markdown",
   "metadata": {},
   "source": [
    "화장품 전성분 데이터를 수집하기 위한 본작업.\n",
    "<br>\n",
    "INCI-Decoder 사이트 내에서 수집한 모든 제품의 리스트를 통해\n",
    "<br>\n",
    "개별 url을 통해 각 페이지에 접근,\n",
    "<br>\n",
    "화장품에 담긴 모든 성분을 각 화장품과 매치한 테이블과\n",
    "<br>\n",
    "각 성분과 그에 대한 효능을 매치한 테이블을 만들 것.\n",
    "<br>\n",
    "즉, 화장품명, 전성분표 및 성분에 따른 효능 데이터\n",
    "<br>\n",
    "모두를 수집할 예정.\n",
    "<br>\n",
    "<br>\n",
    "<br>\n",
    "(이 과정에서 시간적 비용 및 리소스 낭비를 방지하기 위해,\n",
    "<br>\n",
    "샘플 데이터를 1000개로 제한하여 앞으로의 실습을 진행할 것)"
   ]
  },
  {
   "cell_type": "markdown",
   "metadata": {},
   "source": [
    "### 1. 활용 모듈 및 성분 파일 불러오기"
   ]
  },
  {
   "cell_type": "markdown",
   "metadata": {},
   "source": [
    "프로젝트에서 활용할 모듈은 사용한 셀에서 설명할 예정"
   ]
  },
  {
   "cell_type": "code",
   "execution_count": 1,
   "metadata": {},
   "outputs": [],
   "source": [
    "import warnings\n",
    "warnings.filterwarnings(action='ignore')\n",
    "\n",
    "import pandas as pd\n",
    "import random\n",
    "\n",
    "import tqdm\n",
    "from bs4 import BeautifulSoup\n",
    "import requests\n",
    "from html_table_parser import parser_functions"
   ]
  },
  {
   "cell_type": "markdown",
   "metadata": {},
   "source": [
    "앞서 INCI-Decoder 사이트에서 수집한 제품명 리스트 불러오기.\n",
    "<br>\n",
    "해당 파일의 'product_label' 칼럼을 활용하여\n",
    "<br>\n",
    "INCI-Decoder 사이트 내 제품 전반에 대한 데이터에 접근할 것."
   ]
  },
  {
   "cell_type": "code",
   "execution_count": 2,
   "metadata": {},
   "outputs": [
    {
     "data": {
      "text/plain": [
       "77001"
      ]
     },
     "execution_count": 2,
     "metadata": {},
     "output_type": "execute_result"
    }
   ],
   "source": [
    "# INCI_Decoder의 화장품 리스트\n",
    "\n",
    "product_lst = list(pd.read_csv(\"./product_df.csv\")['product_label'])\n",
    "len(product_lst)"
   ]
  },
  {
   "cell_type": "markdown",
   "metadata": {},
   "source": [
    "### 2. 데이터 수집을 위한 사전 처리"
   ]
  },
  {
   "cell_type": "markdown",
   "metadata": {},
   "source": [
    "크롤링할 데이터를 선택하는 과정.\n",
    "<br>\n",
    "본격적인 데이터 수집에 앞서서 샘플을 추출하고,\n",
    "<br>\n",
    "수집할 데이터를 저장할 리스트를 구성."
   ]
  },
  {
   "cell_type": "code",
   "execution_count": 3,
   "metadata": {},
   "outputs": [],
   "source": [
    "# 1000개의 샘플 데이터를 뽑아오기 위한 사전 작업\n",
    "\n",
    "sample_list = random.sample(product_lst, 1000)"
   ]
  },
  {
   "cell_type": "code",
   "execution_count": 4,
   "metadata": {},
   "outputs": [],
   "source": [
    "product_name = [] # 화장품 이름\n",
    "ingredient_lst = [] # 화장품에 들어있는 성분을 리스트로 받음\n",
    "formatted_ingredient_lst = [] # formatted 성분 표기명을 리스트로 받음\n",
    "what_lst = [] # 성분이 어떤 효능이 있는지 리스트로 받음\n",
    "failed_lst = [] # 크롤링 중 실패한 로그를 추적하기 위해"
   ]
  },
  {
   "cell_type": "markdown",
   "metadata": {},
   "source": [
    "### 3. 데이터 수집"
   ]
  },
  {
   "cell_type": "markdown",
   "metadata": {},
   "source": [
    "화장품 이름, 화장품의 성분 리스트, 표준화된 성분 표기명, 성분의 효능을\n",
    "<br>\n",
    "화장품 이름이 포함된 url을 통해 접근한 웹페이지를 돌며 수집할 예정.\n",
    "<br>\n",
    "이후, 사용 목적에 맞는 두 개의 테이블을 구성하기 위해서\n",
    "<br>\n",
    "데이터프레임에 적합한 리스트를 넣는 작업을 병행."
   ]
  },
  {
   "cell_type": "code",
   "execution_count": 6,
   "metadata": {},
   "outputs": [
    {
     "data": {
      "application/vnd.jupyter.widget-view+json": {
       "model_id": "9e1e3da45fe34e77b69fb9a5caf9ccd8",
       "version_major": 2,
       "version_minor": 0
      },
      "text/plain": [
       "  0%|          | 0/1000 [00:00<?, ?it/s]"
      ]
     },
     "metadata": {},
     "output_type": "display_data"
    }
   ],
   "source": [
    "for product in tqdm.tqdm_notebook(sample_list):\n",
    "    url = f\"https://incidecoder.com/products/{product}\" # url에 product 명을 바꿔가며 루프를 돈다\n",
    "    response = requests.get(url)\n",
    "\n",
    "    if response.status_code == 200:\n",
    "        html = response.text\n",
    "        soup = BeautifulSoup(html, 'html.parser')\n",
    "\n",
    "    data = soup.find('table',{\"class\" : \"product-skim fs16\"}) # class가 product-skim fs16인 테이블을 태그로 받음 \n",
    "    df = parser_functions.make2d(data)[1:] # make2d를 활용해 테이블을 파이썬 자료구조로 받고\n",
    "    tmpdf = pd.DataFrame(df, columns=[\"Ingredient name\", \"what-it-does\", \"irr., com.\", \"ID-Rating\"]) # 임시 데이터 프레임을 만든다\n",
    "    \n",
    "    try: # 크롤링 시도\n",
    "        # 클래스 bold인 성분들은 html 태그에 formatted_name이 존재하지 않았다.\n",
    "        # 그래서 테이블에는 기록되어 있지만, 데이터를 모두 수집한 후 데이터 프레임으로 만드는 과정에서 개수가 맞지 않는 이슈가 있었다.(Ingredient_name != Formatted_name)\n",
    "        # 이를 방지하기 위해 bold처리된 성분들을 없앨 것.\n",
    "        Bold_lst = []\n",
    "        for ing in data.find_all('td', {'class': 'bold'}):\n",
    "            Bold_lst.append(ing.text.replace('\\n','').strip()) # 전처리\n",
    "        \n",
    "        indexes = []\n",
    "        for stop in Bold_lst: # 볼드 처리된 성분들을 없애기 위해 인덱스를 알아내는 작업\n",
    "            indexes.append(tmpdf[tmpdf['Ingredient name'] == stop].index[0])\n",
    "        \n",
    "        tmpdf.drop(indexes, axis=0,inplace=True) # 알아온 인덱스들로 drop을 활용해 임시 데이터 프레임에서 삭제한다\n",
    "\n",
    "        ingtmp = []\n",
    "        for tag in data.find_all('a', {'class': \"black ingred-detail-link\"}):\n",
    "            ingtmp.append(tag.attrs['href'][13:]) # html 태그에 들어있는 formatted 성분명을 알아오는 작업. 마찬가지로 리스트 형태로 받아온다\n",
    "        formatted_ingredient_lst.append(ingtmp)\n",
    "\n",
    "        # 임시로 만든 tmpdf의 데이터들을 활용해 성분명_리스트, 효능_리스트를 얻고\n",
    "        ingredient_lst.append(list(tmpdf['Ingredient name']))\n",
    "        what_lst.append(list(tmpdf[\"what-it-does\"]))\n",
    "        product_name.append(product) # 제품명 추가\n",
    "    \n",
    "    except: # 실패시 failed_lst에 기록\n",
    "        failed_lst.append([product, data])"
   ]
  },
  {
   "cell_type": "markdown",
   "metadata": {},
   "source": [
    "성분명, 표준화된 성분 표기명, 성분의 효능이 포함된\n",
    "<br>\n",
    "두 번째 테이블을 구성하기 위해 진행하는 부차적인 작업"
   ]
  },
  {
   "cell_type": "code",
   "execution_count": 7,
   "metadata": {},
   "outputs": [],
   "source": [
    "# 리스트로 묶여있는 원소들을 개별로 받아오는 작업\n",
    "\n",
    "each_ingredient_lst = []\n",
    "for lst in ingredient_lst:\n",
    "    for ing in lst:\n",
    "        each_ingredient_lst.append(ing)\n",
    "\n",
    "each_formatted_ingredient_lst = []\n",
    "for lst in formatted_ingredient_lst:\n",
    "    for ing in lst:\n",
    "        each_formatted_ingredient_lst.append(ing)\n",
    "\n",
    "each_what_lst = []\n",
    "for lst in what_lst:\n",
    "    for does in lst:\n",
    "        tmp = []\n",
    "        for does in does.replace('\\n','').replace('\\u200b','').split(','): # 전처리\n",
    "            tmp.append(does.strip())\n",
    "        each_what_lst.append(tmp)"
   ]
  },
  {
   "cell_type": "markdown",
   "metadata": {},
   "source": [
    "수집한 데이터들이 포함된 리스트를 활용하여\n",
    "<br>\n",
    "두 개의 테이블을 구성."
   ]
  },
  {
   "cell_type": "code",
   "execution_count": 12,
   "metadata": {},
   "outputs": [],
   "source": [
    "# 제품명, 전성분표 리스트, 표준 성분 표기명으로 구성된 첫 번째 테이블\n",
    "\n",
    "cols = ['product name', 'ingredients', 'formatted ingredients']\n",
    "product_df = pd.DataFrame(columns=cols)\n",
    "\n",
    "product_df['product name'] = product_name\n",
    "product_df['ingredients'] = ingredient_lst\n",
    "product_df['formatted ingredients'] = formatted_ingredient_lst"
   ]
  },
  {
   "cell_type": "code",
   "execution_count": 13,
   "metadata": {},
   "outputs": [],
   "source": [
    "# 성분명, 표준 성분 표기명, 성분의 효능으로 구성된 두 번째 테이블\n",
    "\n",
    "ingredient_df = pd.DataFrame(columns=['ingredients','formatted ingredients','what-it-does'])\n",
    "ingredient_df['ingredients'] = each_ingredient_lst\n",
    "ingredient_df['formatted ingredients'] = each_formatted_ingredient_lst\n",
    "ingredient_df['what-it-does'] = each_what_lst"
   ]
  },
  {
   "cell_type": "code",
   "execution_count": 10,
   "metadata": {},
   "outputs": [],
   "source": [
    "product_df.to_csv('inci_ing_sample.csv', index=False)"
   ]
  },
  {
   "cell_type": "code",
   "execution_count": 11,
   "metadata": {},
   "outputs": [],
   "source": [
    "ingredient_df.to_csv('inci_prod_sample.csv', index=False)"
   ]
  },
  {
   "cell_type": "markdown",
   "metadata": {},
   "source": [
    "### 4. 수집 데이터 확인"
   ]
  },
  {
   "cell_type": "markdown",
   "metadata": {},
   "source": [
    "수집한 데이터를 확인하는 과정.\n",
    "<br>\n",
    "수집된 데이터가 이상이 없는지 확인."
   ]
  },
  {
   "cell_type": "code",
   "execution_count": 15,
   "metadata": {},
   "outputs": [
    {
     "name": "stdout",
     "output_type": "stream",
     "text": [
      "<class 'pandas.core.frame.DataFrame'>\n",
      "RangeIndex: 1000 entries, 0 to 999\n",
      "Data columns (total 3 columns):\n",
      " #   Column                 Non-Null Count  Dtype \n",
      "---  ------                 --------------  ----- \n",
      " 0   product name           1000 non-null   object\n",
      " 1   ingredients            1000 non-null   object\n",
      " 2   formatted ingredients  1000 non-null   object\n",
      "dtypes: object(3)\n",
      "memory usage: 23.6+ KB\n"
     ]
    }
   ],
   "source": [
    "product_df.info()"
   ]
  },
  {
   "cell_type": "code",
   "execution_count": 17,
   "metadata": {},
   "outputs": [
    {
     "data": {
      "text/html": [
       "<div>\n",
       "<style scoped>\n",
       "    .dataframe tbody tr th:only-of-type {\n",
       "        vertical-align: middle;\n",
       "    }\n",
       "\n",
       "    .dataframe tbody tr th {\n",
       "        vertical-align: top;\n",
       "    }\n",
       "\n",
       "    .dataframe thead th {\n",
       "        text-align: right;\n",
       "    }\n",
       "</style>\n",
       "<table border=\"1\" class=\"dataframe\">\n",
       "  <thead>\n",
       "    <tr style=\"text-align: right;\">\n",
       "      <th></th>\n",
       "      <th>product name</th>\n",
       "      <th>ingredients</th>\n",
       "      <th>formatted ingredients</th>\n",
       "    </tr>\n",
       "  </thead>\n",
       "  <tbody>\n",
       "    <tr>\n",
       "      <th>0</th>\n",
       "      <td>barry-m-flawless-original-primer</td>\n",
       "      <td>[Cyclopentasiloxane, Aqua, Isododecane, Cycloh...</td>\n",
       "      <td>[cyclopentasiloxane, water, isododecane, cyclo...</td>\n",
       "    </tr>\n",
       "    <tr>\n",
       "      <th>1</th>\n",
       "      <td>annayake-bamboo-energizing-face-care</td>\n",
       "      <td>[Aqua (Water), Propylheptyl Caprylate, Shea Bu...</td>\n",
       "      <td>[water, propylheptyl-caprylate, shea-butter-et...</td>\n",
       "    </tr>\n",
       "    <tr>\n",
       "      <th>2</th>\n",
       "      <td>clarins-booster-repair</td>\n",
       "      <td>[Glycerin, Aqua/Water/Eau, Propylene Glycol, P...</td>\n",
       "      <td>[glycerin, water, propylene-glycol, panthenol,...</td>\n",
       "    </tr>\n",
       "    <tr>\n",
       "      <th>3</th>\n",
       "      <td>thermal-shampoo</td>\n",
       "      <td>[Aqua (Medicinal Water), Sodium Laureth Sulfat...</td>\n",
       "      <td>[water, sodium-laureth-sulfate, cocamidopropyl...</td>\n",
       "    </tr>\n",
       "    <tr>\n",
       "      <th>4</th>\n",
       "      <td>aya-natural-skin-calming-cream</td>\n",
       "      <td>[Purified Aqua, Cetearyl Alcohol, Cetearyl Glu...</td>\n",
       "      <td>[water, cetearyl-alcohol, cetearyl-glucoside, ...</td>\n",
       "    </tr>\n",
       "    <tr>\n",
       "      <th>...</th>\n",
       "      <td>...</td>\n",
       "      <td>...</td>\n",
       "      <td>...</td>\n",
       "    </tr>\n",
       "    <tr>\n",
       "      <th>995</th>\n",
       "      <td>nivea-sun-protect-sensitive</td>\n",
       "      <td>[Aqua, Homosalate, Alcohol Denat, Glycerin, Bu...</td>\n",
       "      <td>[water, homosalate, alcohol-denat, glycerin, b...</td>\n",
       "    </tr>\n",
       "    <tr>\n",
       "      <th>996</th>\n",
       "      <td>ocare-love-basic-hair-shampoo</td>\n",
       "      <td>[Aqua, Sodium Lauroyl Methyl Isethionate, Sodi...</td>\n",
       "      <td>[water, sodium-lauroyl-methyl-isethionate, sod...</td>\n",
       "    </tr>\n",
       "    <tr>\n",
       "      <th>997</th>\n",
       "      <td>lancome-tonique-douceur</td>\n",
       "      <td>[Water, Glycerin, Sodium Citrate, Ci 42090/Blu...</td>\n",
       "      <td>[water, glycerin, sodium-citrate, ci-42090, ci...</td>\n",
       "    </tr>\n",
       "    <tr>\n",
       "      <th>998</th>\n",
       "      <td>faces-canada-second-skin-foundation</td>\n",
       "      <td>[Dimethicone, Cyclohexasiloxane, Isododecane, ...</td>\n",
       "      <td>[dimethicone, cyclohexasiloxane, isododecane, ...</td>\n",
       "    </tr>\n",
       "    <tr>\n",
       "      <th>999</th>\n",
       "      <td>gin-amber-beauty-advanced-hyaluronic-acid-serum</td>\n",
       "      <td>[Aqua (Water), Hamamelis Virginiana Water (Wit...</td>\n",
       "      <td>[water, hamamelis-virginiana-water, cassia-ang...</td>\n",
       "    </tr>\n",
       "  </tbody>\n",
       "</table>\n",
       "<p>1000 rows × 3 columns</p>\n",
       "</div>"
      ],
      "text/plain": [
       "                                        product name  \\\n",
       "0                   barry-m-flawless-original-primer   \n",
       "1               annayake-bamboo-energizing-face-care   \n",
       "2                             clarins-booster-repair   \n",
       "3                                    thermal-shampoo   \n",
       "4                     aya-natural-skin-calming-cream   \n",
       "..                                               ...   \n",
       "995                      nivea-sun-protect-sensitive   \n",
       "996                    ocare-love-basic-hair-shampoo   \n",
       "997                          lancome-tonique-douceur   \n",
       "998              faces-canada-second-skin-foundation   \n",
       "999  gin-amber-beauty-advanced-hyaluronic-acid-serum   \n",
       "\n",
       "                                           ingredients  \\\n",
       "0    [Cyclopentasiloxane, Aqua, Isododecane, Cycloh...   \n",
       "1    [Aqua (Water), Propylheptyl Caprylate, Shea Bu...   \n",
       "2    [Glycerin, Aqua/Water/Eau, Propylene Glycol, P...   \n",
       "3    [Aqua (Medicinal Water), Sodium Laureth Sulfat...   \n",
       "4    [Purified Aqua, Cetearyl Alcohol, Cetearyl Glu...   \n",
       "..                                                 ...   \n",
       "995  [Aqua, Homosalate, Alcohol Denat, Glycerin, Bu...   \n",
       "996  [Aqua, Sodium Lauroyl Methyl Isethionate, Sodi...   \n",
       "997  [Water, Glycerin, Sodium Citrate, Ci 42090/Blu...   \n",
       "998  [Dimethicone, Cyclohexasiloxane, Isododecane, ...   \n",
       "999  [Aqua (Water), Hamamelis Virginiana Water (Wit...   \n",
       "\n",
       "                                 formatted ingredients  \n",
       "0    [cyclopentasiloxane, water, isododecane, cyclo...  \n",
       "1    [water, propylheptyl-caprylate, shea-butter-et...  \n",
       "2    [glycerin, water, propylene-glycol, panthenol,...  \n",
       "3    [water, sodium-laureth-sulfate, cocamidopropyl...  \n",
       "4    [water, cetearyl-alcohol, cetearyl-glucoside, ...  \n",
       "..                                                 ...  \n",
       "995  [water, homosalate, alcohol-denat, glycerin, b...  \n",
       "996  [water, sodium-lauroyl-methyl-isethionate, sod...  \n",
       "997  [water, glycerin, sodium-citrate, ci-42090, ci...  \n",
       "998  [dimethicone, cyclohexasiloxane, isododecane, ...  \n",
       "999  [water, hamamelis-virginiana-water, cassia-ang...  \n",
       "\n",
       "[1000 rows x 3 columns]"
      ]
     },
     "execution_count": 17,
     "metadata": {},
     "output_type": "execute_result"
    }
   ],
   "source": [
    "product_df"
   ]
  },
  {
   "cell_type": "code",
   "execution_count": 16,
   "metadata": {},
   "outputs": [
    {
     "name": "stdout",
     "output_type": "stream",
     "text": [
      "<class 'pandas.core.frame.DataFrame'>\n",
      "RangeIndex: 26394 entries, 0 to 26393\n",
      "Data columns (total 3 columns):\n",
      " #   Column                 Non-Null Count  Dtype \n",
      "---  ------                 --------------  ----- \n",
      " 0   ingredients            26394 non-null  object\n",
      " 1   formatted ingredients  26394 non-null  object\n",
      " 2   what-it-does           26394 non-null  object\n",
      "dtypes: object(3)\n",
      "memory usage: 618.7+ KB\n"
     ]
    }
   ],
   "source": [
    "ingredient_df.info()"
   ]
  },
  {
   "cell_type": "code",
   "execution_count": 18,
   "metadata": {},
   "outputs": [
    {
     "data": {
      "text/html": [
       "<div>\n",
       "<style scoped>\n",
       "    .dataframe tbody tr th:only-of-type {\n",
       "        vertical-align: middle;\n",
       "    }\n",
       "\n",
       "    .dataframe tbody tr th {\n",
       "        vertical-align: top;\n",
       "    }\n",
       "\n",
       "    .dataframe thead th {\n",
       "        text-align: right;\n",
       "    }\n",
       "</style>\n",
       "<table border=\"1\" class=\"dataframe\">\n",
       "  <thead>\n",
       "    <tr style=\"text-align: right;\">\n",
       "      <th></th>\n",
       "      <th>ingredients</th>\n",
       "      <th>formatted ingredients</th>\n",
       "      <th>what-it-does</th>\n",
       "    </tr>\n",
       "  </thead>\n",
       "  <tbody>\n",
       "    <tr>\n",
       "      <th>0</th>\n",
       "      <td>Cyclopentasiloxane</td>\n",
       "      <td>cyclopentasiloxane</td>\n",
       "      <td>[emollient, solvent]</td>\n",
       "    </tr>\n",
       "    <tr>\n",
       "      <th>1</th>\n",
       "      <td>Aqua</td>\n",
       "      <td>water</td>\n",
       "      <td>[solvent]</td>\n",
       "    </tr>\n",
       "    <tr>\n",
       "      <th>2</th>\n",
       "      <td>Isododecane</td>\n",
       "      <td>isododecane</td>\n",
       "      <td>[emollient, solvent]</td>\n",
       "    </tr>\n",
       "    <tr>\n",
       "      <th>3</th>\n",
       "      <td>Cyclohexasiloxane</td>\n",
       "      <td>cyclohexasiloxane</td>\n",
       "      <td>[emollient, solvent]</td>\n",
       "    </tr>\n",
       "    <tr>\n",
       "      <th>4</th>\n",
       "      <td>Dimethicone Crosspolymer</td>\n",
       "      <td>dimethicone-crosspolymer</td>\n",
       "      <td>[viscosity controlling]</td>\n",
       "    </tr>\n",
       "    <tr>\n",
       "      <th>...</th>\n",
       "      <td>...</td>\n",
       "      <td>...</td>\n",
       "      <td>...</td>\n",
       "    </tr>\n",
       "    <tr>\n",
       "      <th>26389</th>\n",
       "      <td>Camellia Sinensis (Organic Green Tea) Extract</td>\n",
       "      <td>camellia-sinensis-leaf-extract</td>\n",
       "      <td>[antioxidant, soothing]</td>\n",
       "    </tr>\n",
       "    <tr>\n",
       "      <th>26390</th>\n",
       "      <td>Centella Asiatica (Organic Gotu Kola) Extract</td>\n",
       "      <td>centella-asiatica-extract</td>\n",
       "      <td>[soothing, antioxidant, moisturizer/humectant]</td>\n",
       "    </tr>\n",
       "    <tr>\n",
       "      <th>26391</th>\n",
       "      <td>Equisetum Arvense (Horsetail) Extract</td>\n",
       "      <td>equisetum-arvense-extract</td>\n",
       "      <td>[soothing, emollient]</td>\n",
       "    </tr>\n",
       "    <tr>\n",
       "      <th>26392</th>\n",
       "      <td>Geranium Maculatum (Wild Geranium) Extract</td>\n",
       "      <td>geranium-maculatum-extract</td>\n",
       "      <td>[]</td>\n",
       "    </tr>\n",
       "    <tr>\n",
       "      <th>26393</th>\n",
       "      <td>Taraxacum Officinale (Dandelion) Extract</td>\n",
       "      <td>taraxacum-officinale-extract</td>\n",
       "      <td>[]</td>\n",
       "    </tr>\n",
       "  </tbody>\n",
       "</table>\n",
       "<p>26394 rows × 3 columns</p>\n",
       "</div>"
      ],
      "text/plain": [
       "                                         ingredients  \\\n",
       "0                                 Cyclopentasiloxane   \n",
       "1                                               Aqua   \n",
       "2                                        Isododecane   \n",
       "3                                  Cyclohexasiloxane   \n",
       "4                           Dimethicone Crosspolymer   \n",
       "...                                              ...   \n",
       "26389  Camellia Sinensis (Organic Green Tea) Extract   \n",
       "26390  Centella Asiatica (Organic Gotu Kola) Extract   \n",
       "26391          Equisetum Arvense (Horsetail) Extract   \n",
       "26392     Geranium Maculatum (Wild Geranium) Extract   \n",
       "26393       Taraxacum Officinale (Dandelion) Extract   \n",
       "\n",
       "                formatted ingredients  \\\n",
       "0                  cyclopentasiloxane   \n",
       "1                               water   \n",
       "2                         isododecane   \n",
       "3                   cyclohexasiloxane   \n",
       "4            dimethicone-crosspolymer   \n",
       "...                               ...   \n",
       "26389  camellia-sinensis-leaf-extract   \n",
       "26390       centella-asiatica-extract   \n",
       "26391       equisetum-arvense-extract   \n",
       "26392      geranium-maculatum-extract   \n",
       "26393    taraxacum-officinale-extract   \n",
       "\n",
       "                                         what-it-does  \n",
       "0                                [emollient, solvent]  \n",
       "1                                           [solvent]  \n",
       "2                                [emollient, solvent]  \n",
       "3                                [emollient, solvent]  \n",
       "4                             [viscosity controlling]  \n",
       "...                                               ...  \n",
       "26389                         [antioxidant, soothing]  \n",
       "26390  [soothing, antioxidant, moisturizer/humectant]  \n",
       "26391                           [soothing, emollient]  \n",
       "26392                                              []  \n",
       "26393                                              []  \n",
       "\n",
       "[26394 rows x 3 columns]"
      ]
     },
     "execution_count": 18,
     "metadata": {},
     "output_type": "execute_result"
    }
   ],
   "source": [
    "ingredient_df"
   ]
  }
 ],
 "metadata": {
  "interpreter": {
   "hash": "a25cd9f89876bcf3e8ab9a11749a6ba312fc39ea63ca69d0587e322f28223b18"
  },
  "kernelspec": {
   "display_name": "Python 3.8.12 ('ds_study')",
   "language": "python",
   "name": "python3"
  },
  "language_info": {
   "codemirror_mode": {
    "name": "ipython",
    "version": 3
   },
   "file_extension": ".py",
   "mimetype": "text/x-python",
   "name": "python",
   "nbconvert_exporter": "python",
   "pygments_lexer": "ipython3",
   "version": "3.8.13"
  },
  "orig_nbformat": 4
 },
 "nbformat": 4,
 "nbformat_minor": 2
}
